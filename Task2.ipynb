{
 "cells": [
  {
   "cell_type": "code",
   "execution_count": 5,
   "id": "d347301e",
   "metadata": {},
   "outputs": [],
   "source": [
    "# Проведите тест гипотезы. Утверждается, что шарики для подшипников, изготовленные\n",
    "# автоматическим станком, имеют средний диаметр 17 мм.\n",
    "# Используя односторонний критерий с α=0,05, проверить эту гипотезу, если в выборке из\n",
    "# n=100 шариков средний диаметр\n",
    "# оказался равным 17.5 мм, а дисперсия известна и равна 4 кв. мм."
   ]
  },
  {
   "cell_type": "code",
   "execution_count": 12,
   "id": "a8985393",
   "metadata": {},
   "outputs": [
    {
     "name": "stdout",
     "output_type": "stream",
     "text": [
      "Наблюдаемое значение z-критерия:  2.5000\n"
     ]
    }
   ],
   "source": [
    "# Поскольку нам известны и среднее и дисперсия генеральной совокупности, то для проверки гипотезы будем использовать \n",
    "# z-критерий.\n",
    "z=(17.5-17)/0.2\n",
    "print(f'Наблюдаемое значение z-критерия: {z: .4f}')"
   ]
  },
  {
   "cell_type": "code",
   "execution_count": 14,
   "id": "c2ab90e6",
   "metadata": {},
   "outputs": [
    {
     "name": "stdout",
     "output_type": "stream",
     "text": [
      "Табличное значение z-критерия:  1.6449\n"
     ]
    }
   ],
   "source": [
    "# Найдем табличное значение z-критерия, для α=0,05\n",
    "import scipy.stats as stats\n",
    "zt=stats.norm.ppf(0.95)\n",
    "print(f'Табличное значение z-критерия: {zt: .4f}')"
   ]
  },
  {
   "cell_type": "code",
   "execution_count": 15,
   "id": "e234abfc",
   "metadata": {},
   "outputs": [
    {
     "data": {
      "text/plain": [
       "False"
      ]
     },
     "execution_count": 15,
     "metadata": {},
     "output_type": "execute_result"
    }
   ],
   "source": [
    "z<zt"
   ]
  },
  {
   "cell_type": "code",
   "execution_count": null,
   "id": "7bd78816",
   "metadata": {},
   "outputs": [],
   "source": [
    "# Поскольку z>zt, отвергаем нулевую гипотезу на уровне значимости α=0,05"
   ]
  }
 ],
 "metadata": {
  "kernelspec": {
   "display_name": "Python 3 (ipykernel)",
   "language": "python",
   "name": "python3"
  },
  "language_info": {
   "codemirror_mode": {
    "name": "ipython",
    "version": 3
   },
   "file_extension": ".py",
   "mimetype": "text/x-python",
   "name": "python",
   "nbconvert_exporter": "python",
   "pygments_lexer": "ipython3",
   "version": "3.10.11"
  }
 },
 "nbformat": 4,
 "nbformat_minor": 5
}
